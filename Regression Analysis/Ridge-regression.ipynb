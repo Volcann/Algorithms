{
 "cells": [
  {
   "cell_type": "markdown",
   "id": "7d7b3765",
   "metadata": {
    "papermill": {
     "duration": 0.002407,
     "end_time": "2024-10-01T05:48:54.604958",
     "exception": false,
     "start_time": "2024-10-01T05:48:54.602551",
     "status": "completed"
    },
    "tags": []
   },
   "source": [
    "# Ridge regression"
   ]
  },
  {
   "cell_type": "markdown",
   "id": "26c0f645",
   "metadata": {
    "papermill": {
     "duration": 0.00149,
     "end_time": "2024-10-01T05:48:54.608424",
     "exception": false,
     "start_time": "2024-10-01T05:48:54.606934",
     "status": "completed"
    },
    "tags": []
   },
   "source": [
    "L2 regression, commonly known as Ridge regression, is a linear regression technique that incorporates L2 regularization. This method helps prevent overfitting by adding a penalty equal to the square of the magnitude of coefficients. Ridge regression is particularly useful when you have multicollinearity in your data."
   ]
  },
  {
   "cell_type": "code",
   "execution_count": 1,
   "id": "96b1d4fe",
   "metadata": {
    "execution": {
     "iopub.execute_input": "2024-10-01T05:48:54.613784Z",
     "iopub.status.busy": "2024-10-01T05:48:54.613389Z",
     "iopub.status.idle": "2024-10-01T05:48:56.360607Z",
     "shell.execute_reply": "2024-10-01T05:48:56.359411Z"
    },
    "papermill": {
     "duration": 1.753412,
     "end_time": "2024-10-01T05:48:56.363538",
     "exception": false,
     "start_time": "2024-10-01T05:48:54.610126",
     "status": "completed"
    },
    "tags": []
   },
   "outputs": [
    {
     "data": {
      "image/png": "[encoded data removed]",
      "text/plain": [
       "<Figure size 640x480 with 1 Axes>"
      ]
     },
     "metadata": {},
     "output_type": "display_data"
    },
    {
     "name": "stdout",
     "output_type": "stream",
     "text": [
      "Model Performance Metrics:\n",
      "Mean Absolute Error (MAE): 0.43338103774002984\n",
      "Mean Squared Error (MSE): 0.25740145644265555\n",
      "R-squared (R²): 0.8515623241334682\n",
      "Model coefficients: [0.         0.15413446 0.87469011]\n",
      "Model intercept: 0.17307716118055272\n"
     ]
    }
   ],
   "source": [
    "# L2 Regression (Ridge) Notebook\n",
    "\n",
    "# Import necessary libraries\n",
    "import numpy as np\n",
    "import matplotlib.pyplot as plt\n",
    "from sklearn.model_selection import train_test_split\n",
    "from sklearn.preprocessing import PolynomialFeatures\n",
    "from sklearn.linear_model import Ridge\n",
    "from sklearn.metrics import mean_absolute_error, mean_squared_error, r2_score\n",
    "\n",
    "# Generate synthetic data\n",
    "np.random.seed(0)\n",
    "X = 2 - 3 * np.random.rand(100)\n",
    "y = X**2 + np.random.randn(100) * 0.5\n",
    "\n",
    "# Reshape the data\n",
    "X = X[:, np.newaxis]\n",
    "\n",
    "# Split the data into training and testing sets\n",
    "X_train, X_test, y_train, y_test = train_test_split(X, y, test_size=0.2, random_state=0)\n",
    "\n",
    "# Create polynomial features\n",
    "poly = PolynomialFeatures(degree=2)\n",
    "X_poly = poly.fit_transform(X_train)\n",
    "\n",
    "# Train the Ridge regression model\n",
    "ridge = Ridge(alpha=1.0)  # You can adjust the alpha for regularization strength\n",
    "ridge.fit(X_poly, y_train)\n",
    "\n",
    "# Predict using the model\n",
    "X_test_poly = poly.transform(X_test)\n",
    "y_pred = ridge.predict(X_test_poly)\n",
    "\n",
    "# Visualize the results\n",
    "plt.scatter(X_test, y_test, color='red', label='Actual data')\n",
    "plt.scatter(X_test, y_pred, color='blue', label='Predicted data')\n",
    "plt.title('L2 Regression (Ridge) Results')\n",
    "plt.xlabel('X')\n",
    "plt.ylabel('y')\n",
    "plt.legend()\n",
    "plt.show()\n",
    "\n",
    "# Calculate and print model performance metrics\n",
    "mae = mean_absolute_error(y_test, y_pred)\n",
    "mse = mean_squared_error(y_test, y_pred)\n",
    "r2 = r2_score(y_test, y_pred)\n",
    "\n",
    "print(\"Model Performance Metrics:\")\n",
    "print(f\"Mean Absolute Error (MAE): {mae}\")\n",
    "print(f\"Mean Squared Error (MSE): {mse}\")\n",
    "print(f\"R-squared (R²): {r2}\")\n",
    "\n",
    "# Print model coefficients and intercept\n",
    "print(\"Model coefficients:\", ridge.coef_)\n",
    "print(\"Model intercept:\", ridge.intercept_)"
   ]
  },
  {
   "cell_type": "markdown",
   "id": "4ecdfdc8",
   "metadata": {
    "papermill": {
     "duration": 0.002124,
     "end_time": "2024-10-01T05:48:56.368158",
     "exception": false,
     "start_time": "2024-10-01T05:48:56.366034",
     "status": "completed"
    },
    "tags": []
   },
   "source": [
    "### Explanation of Code Components\n",
    "\n",
    "1. **Data Generation**: Synthetic data is created for the purpose of polynomial regression.\n",
    "\n",
    "2. **Data Preprocessing**: The dataset is split into training and testing sets, and polynomial features are generated.\n",
    "\n",
    "3. **Ridge Model Training**: A Ridge regression model is fitted using the training data, with an adjustable `alpha` parameter controlling the regularization strength.\n",
    "\n",
    "4. **Prediction**: Predictions are made on the test set.\n",
    "\n",
    "5. **Visualization**: A scatter plot shows the actual vs. predicted values.\n",
    "\n",
    "6. **Performance Measurement**: Model performance is evaluated using Mean Absolute Error (MAE), Mean Squared Error (MSE), and R-squared (R²) metrics.\n",
    "\n",
    "7. **Model Coefficients**: The coefficients and intercept of the Ridge model are printed to examine the influence of features.\n",
    "\n",
    "### Note\n",
    "You can modify the `alpha` parameter in the Ridge constructor to see how it influences model performance and coefficient values. A higher alpha increases the amount of regularization applied."
   ]
  }
 ],
 "metadata": {
  "kaggle": {
   "accelerator": "none",
   "dataSources": [],
   "dockerImageVersionId": 30775,
   "isGpuEnabled": false,
   "isInternetEnabled": false,
   "language": "python",
   "sourceType": "notebook"
  },
  "kernelspec": {
   "display_name": "Python 3",
   "language": "python",
   "name": "python3"
  },
  "language_info": {
   "codemirror_mode": {
    "name": "ipython",
    "version": 3
   },
   "file_extension": ".py",
   "mimetype": "text/x-python",
   "name": "python",
   "nbconvert_exporter": "python",
   "pygments_lexer": "ipython3",
   "version": "3.10.14"
  },
  "papermill": {
   "default_parameters": {},
   "duration": 4.889163,
   "end_time": "2024-10-01T05:48:56.891067",
   "environment_variables": {},
   "exception": null,
   "input_path": "__notebook__.ipynb",
   "output_path": "__notebook__.ipynb",
   "parameters": {},
   "start_time": "2024-10-01T05:48:52.001904",
   "version": "2.6.0"
  }
 },
 "nbformat": 4,
 "nbformat_minor": 5
}
