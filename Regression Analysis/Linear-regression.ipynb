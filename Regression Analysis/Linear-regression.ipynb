{
 "cells": [
  {
   "cell_type": "markdown",
   "id": "2d784f05",
   "metadata": {
    "papermill": {
     "duration": 0.004215,
     "end_time": "2024-09-30T16:53:20.392377",
     "exception": false,
     "start_time": "2024-09-30T16:53:20.388162",
     "status": "completed"
    },
    "tags": []
   },
   "source": [
    "### Linear Regression\n",
    "\n",
    "#### 1. Introduction to Linear Regression\n",
    "   - Definition and purpose of linear regression\n",
    "   - When to use linear regression\n",
    "\n",
    "#### 2. Algorithm with Code\n",
    "   - Explanation of the linear regression algorithm\n",
    "   - Code implementation using Python (using libraries like NumPy and scikit-learn)\n",
    "\n",
    "Feel free to modify any part of this outline or let me know if you need additional information or code snippets!"
   ]
  },
  {
   "cell_type": "code",
   "execution_count": 1,
   "id": "9a2233bf",
   "metadata": {
    "execution": {
     "iopub.execute_input": "2024-09-30T16:53:20.401417Z",
     "iopub.status.busy": "2024-09-30T16:53:20.400977Z",
     "iopub.status.idle": "2024-09-30T16:53:22.832058Z",
     "shell.execute_reply": "2024-09-30T16:53:22.830839Z"
    },
    "papermill": {
     "duration": 2.438666,
     "end_time": "2024-09-30T16:53:22.834726",
     "exception": false,
     "start_time": "2024-09-30T16:53:20.396060",
     "status": "completed"
    },
    "tags": []
   },
   "outputs": [
    {
     "name": "stdout",
     "output_type": "stream",
     "text": [
      "Intercept: -0.7142857142857126\n",
      "Coefficient: [2.14285714]\n"
     ]
    }
   ],
   "source": [
    "import numpy as np\n",
    "import pandas as pd\n",
    "from sklearn.model_selection import train_test_split\n",
    "from sklearn.linear_model import LinearRegression\n",
    "\n",
    "# Sample dataset\n",
    "data = {\n",
    "    'X': [1, 2, 3, 4, 5],\n",
    "    'y': [2, 3, 5, 7, 11]\n",
    "}\n",
    "df = pd.DataFrame(data)\n",
    "\n",
    "# Splitting the dataset into training and testing sets\n",
    "X = df[['X']]\n",
    "y = df['y']\n",
    "X_train, X_test, y_train, y_test = train_test_split(X, y, test_size=0.2, random_state=42)\n",
    "\n",
    "# Creating and training the model\n",
    "model = LinearRegression()\n",
    "model.fit(X_train, y_train)\n",
    "\n",
    "# Coefficients\n",
    "print(\"Intercept:\", model.intercept_)\n",
    "print(\"Coefficient:\", model.coef_)"
   ]
  },
  {
   "cell_type": "markdown",
   "id": "e61d61bc",
   "metadata": {
    "papermill": {
     "duration": 0.003741,
     "end_time": "2024-09-30T16:53:22.842422",
     "exception": false,
     "start_time": "2024-09-30T16:53:22.838681",
     "status": "completed"
    },
    "tags": []
   },
   "source": [
    "#### 3. Explaining How the Model Makes Predictions with Code\n",
    "   - Explanation of how linear regression makes predictions using the trained model\n",
    "   - Code for making predictions on new data"
   ]
  },
  {
   "cell_type": "code",
   "execution_count": 2,
   "id": "1842cc00",
   "metadata": {
    "execution": {
     "iopub.execute_input": "2024-09-30T16:53:22.852119Z",
     "iopub.status.busy": "2024-09-30T16:53:22.851523Z",
     "iopub.status.idle": "2024-09-30T16:53:22.859624Z",
     "shell.execute_reply": "2024-09-30T16:53:22.858454Z"
    },
    "papermill": {
     "duration": 0.016606,
     "end_time": "2024-09-30T16:53:22.862702",
     "exception": false,
     "start_time": "2024-09-30T16:53:22.846096",
     "status": "completed"
    },
    "tags": []
   },
   "outputs": [
    {
     "name": "stdout",
     "output_type": "stream",
     "text": [
      "Actual: 3, Predicted: 3.571428571428572\n"
     ]
    }
   ],
   "source": [
    "   # Making predictions\n",
    "   predictions = model.predict(X_test)\n",
    "\n",
    "   # Display predictions\n",
    "   for i in range(len(X_test)):\n",
    "       print(f\"Actual: {y_test.iloc[i]}, Predicted: {predictions[i]}\")"
   ]
  },
  {
   "cell_type": "markdown",
   "id": "4bad7bcd",
   "metadata": {
    "papermill": {
     "duration": 0.003538,
     "end_time": "2024-09-30T16:53:22.870125",
     "exception": false,
     "start_time": "2024-09-30T16:53:22.866587",
     "status": "completed"
    },
    "tags": []
   },
   "source": [
    "#### 4. Optimal or Less Computational Methods to Train This Algorithm with Code\n",
    "   - Discuss techniques like **Gradient Descent** for optimization\n",
    "   - Code implementation of gradient descent for linear regression"
   ]
  },
  {
   "cell_type": "code",
   "execution_count": 3,
   "id": "07e7fe58",
   "metadata": {
    "execution": {
     "iopub.execute_input": "2024-09-30T16:53:22.879222Z",
     "iopub.status.busy": "2024-09-30T16:53:22.878787Z",
     "iopub.status.idle": "2024-09-30T16:53:22.906888Z",
     "shell.execute_reply": "2024-09-30T16:53:22.905496Z"
    },
    "papermill": {
     "duration": 0.035596,
     "end_time": "2024-09-30T16:53:22.909371",
     "exception": false,
     "start_time": "2024-09-30T16:53:22.873775",
     "status": "completed"
    },
    "tags": []
   },
   "outputs": [
    {
     "name": "stdout",
     "output_type": "stream",
     "text": [
      "Slope: 2.18599815406887, Intercept: -0.9494488934269667\n"
     ]
    }
   ],
   "source": [
    "# Gradient Descent implementation\n",
    "def gradient_descent(X, y, learning_rate=0.01, epochs=1000):\n",
    "    m, b = 0, 0  # Initial slope and intercept\n",
    "    n = len(y)\n",
    "\n",
    "    for _ in range(epochs):\n",
    "        y_pred = m * X + b\n",
    "        md = (-2/n) * sum(X * (y - y_pred))  # Derivative w.r.t m\n",
    "        bd = (-2/n) * sum(y - y_pred)  # Derivative w.r.t b\n",
    "        m -= learning_rate * md  # Update m\n",
    "        b -= learning_rate * bd  # Update b\n",
    "\n",
    "    return m, b\n",
    "\n",
    "# Example usage\n",
    "X_values = np.array(df['X'])\n",
    "y_values = np.array(df['y'])\n",
    "m, b = gradient_descent(X_values, y_values)\n",
    "print(f\"Slope: {m}, Intercept: {b}\")"
   ]
  },
  {
   "cell_type": "markdown",
   "id": "1b24af48",
   "metadata": {
    "papermill": {
     "duration": 0.003861,
     "end_time": "2024-09-30T16:53:22.917362",
     "exception": false,
     "start_time": "2024-09-30T16:53:22.913501",
     "status": "completed"
    },
    "tags": []
   },
   "source": [
    "#### 5. Conclusion\n",
    "   - Recap of linear regression, its applications, and insights gained from the implementation.\n",
    "\n",
    "### Additional Notes\n",
    "- Consider adding visualizations (e.g., scatter plots, regression lines) to illustrate the linear regression results.\n",
    "- Include metrics for evaluating the model (e.g., Mean Squared Error, R² score) to assess its performance."
   ]
  },
  {
   "cell_type": "markdown",
   "id": "acadadc0",
   "metadata": {
    "papermill": {
     "duration": 0.00349,
     "end_time": "2024-09-30T16:53:22.924716",
     "exception": false,
     "start_time": "2024-09-30T16:53:22.921226",
     "status": "completed"
    },
    "tags": []
   },
   "source": [
    "### Multiple Linear Regression Notebook Outline\n",
    "\n",
    "#### 1. Introduction to Multiple Linear Regression\n",
    "   - Definition and purpose of multiple linear regression\n",
    "   - When to use multiple linear regression (e.g., predicting outcomes based on multiple features)\n",
    "\n",
    "#### 2. Algorithm with Code\n",
    "   - Explanation of the multiple linear regression algorithm\n",
    "   - Code implementation using Python (using libraries like NumPy and scikit-learn)"
   ]
  },
  {
   "cell_type": "code",
   "execution_count": 4,
   "id": "7aedab52",
   "metadata": {
    "execution": {
     "iopub.execute_input": "2024-09-30T16:53:22.934601Z",
     "iopub.status.busy": "2024-09-30T16:53:22.933607Z",
     "iopub.status.idle": "2024-09-30T16:53:22.958915Z",
     "shell.execute_reply": "2024-09-30T16:53:22.957601Z"
    },
    "papermill": {
     "duration": 0.032773,
     "end_time": "2024-09-30T16:53:22.961194",
     "exception": false,
     "start_time": "2024-09-30T16:53:22.928421",
     "status": "completed"
    },
    "tags": []
   },
   "outputs": [
    {
     "name": "stdout",
     "output_type": "stream",
     "text": [
      "Intercept: 1.4999999999999991\n",
      "Coefficients: [0.5 0.5]\n"
     ]
    }
   ],
   "source": [
    "   import numpy as np\n",
    "   import pandas as pd\n",
    "   from sklearn.model_selection import train_test_split\n",
    "   from sklearn.linear_model import LinearRegression\n",
    "\n",
    "   # Sample dataset\n",
    "   data = {\n",
    "       'Feature1': [1, 2, 3, 4, 5],\n",
    "       'Feature2': [2, 3, 4, 5, 6],\n",
    "       'Target': [3, 4, 5, 6, 7]\n",
    "   }\n",
    "   df = pd.DataFrame(data)\n",
    "\n",
    "   # Splitting the dataset into training and testing sets\n",
    "   X = df[['Feature1', 'Feature2']]\n",
    "   y = df['Target']\n",
    "   X_train, X_test, y_train, y_test = train_test_split(X, y, test_size=0.2, random_state=42)\n",
    "\n",
    "   # Creating and training the model\n",
    "   model = LinearRegression()\n",
    "   model.fit(X_train, y_train)\n",
    "\n",
    "   # Coefficients\n",
    "   print(\"Intercept:\", model.intercept_)\n",
    "   print(\"Coefficients:\", model.coef_)"
   ]
  }
 ],
 "metadata": {
  "kaggle": {
   "accelerator": "none",
   "dataSources": [],
   "dockerImageVersionId": 30775,
   "isGpuEnabled": false,
   "isInternetEnabled": false,
   "language": "python",
   "sourceType": "notebook"
  },
  "kernelspec": {
   "display_name": "Python 3",
   "language": "python",
   "name": "python3"
  },
  "language_info": {
   "codemirror_mode": {
    "name": "ipython",
    "version": 3
   },
   "file_extension": ".py",
   "mimetype": "text/x-python",
   "name": "python",
   "nbconvert_exporter": "python",
   "pygments_lexer": "ipython3",
   "version": "3.10.14"
  },
  "papermill": {
   "default_parameters": {},
   "duration": 6.068862,
   "end_time": "2024-09-30T16:53:23.485651",
   "environment_variables": {},
   "exception": null,
   "input_path": "__notebook__.ipynb",
   "output_path": "__notebook__.ipynb",
   "parameters": {},
   "start_time": "2024-09-30T16:53:17.416789",
   "version": "2.6.0"
  }
 },
 "nbformat": 4,
 "nbformat_minor": 5
}
