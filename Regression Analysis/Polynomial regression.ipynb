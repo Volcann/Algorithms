{
 "cells": [
  {
   "cell_type": "markdown",
   "id": "876ee5d5",
   "metadata": {
    "papermill": {
     "duration": 0.002631,
     "end_time": "2024-10-01T05:41:15.105181",
     "exception": false,
     "start_time": "2024-10-01T05:41:15.102550",
     "status": "completed"
    },
    "tags": []
   },
   "source": [
    "### Polynomial Regression Notebook Outline\n",
    "\n",
    "#### 1. Introduction to Polynomial Regression\n",
    "   - Definition and purpose of polynomial regression\n",
    "   - When to use polynomial regression (e.g., when the relationship between the features and target is non-linear)\n",
    "\n",
    "#### 2. Algorithm with Code\n",
    "   - Explanation of the polynomial regression algorithm\n",
    "   - Code implementation using Python (using libraries like NumPy and scikit-learn)"
   ]
  },
  {
   "cell_type": "code",
   "execution_count": 1,
   "id": "664b1f7c",
   "metadata": {
    "execution": {
     "iopub.execute_input": "2024-10-01T05:41:15.111741Z",
     "iopub.status.busy": "2024-10-01T05:41:15.111322Z",
     "iopub.status.idle": "2024-10-01T05:41:17.117059Z",
     "shell.execute_reply": "2024-10-01T05:41:17.115802Z"
    },
    "papermill": {
     "duration": 2.011983,
     "end_time": "2024-10-01T05:41:17.119489",
     "exception": false,
     "start_time": "2024-10-01T05:41:15.107506",
     "status": "completed"
    },
    "tags": []
   },
   "outputs": [
    {
     "data": {
      "image/png": "[encoded data removed]",
      "text/plain": [
       "<Figure size 640x480 with 1 Axes>"
      ]
     },
     "metadata": {},
     "output_type": "display_data"
    },
    {
     "name": "stdout",
     "output_type": "stream",
     "text": [
      "Model coefficients: [0.         0.13636345 0.89359729]\n",
      "Model intercept: 0.16369097928912224\n"
     ]
    }
   ],
   "source": [
    "# Polynomial Regression Notebook\n",
    "\n",
    "# Import necessary libraries\n",
    "import numpy as np\n",
    "import matplotlib.pyplot as plt\n",
    "from sklearn.model_selection import train_test_split\n",
    "from sklearn.preprocessing import PolynomialFeatures\n",
    "from sklearn.linear_model import LinearRegression\n",
    "\n",
    "# Generate synthetic data\n",
    "np.random.seed(0)\n",
    "X = 2 - 3 * np.random.rand(100)\n",
    "y = X**2 + np.random.randn(100) * 0.5\n",
    "\n",
    "# Reshape the data\n",
    "X = X[:, np.newaxis]\n",
    "\n",
    "# Split the data into training and testing sets\n",
    "X_train, X_test, y_train, y_test = train_test_split(X, y, test_size=0.2, random_state=0)\n",
    "\n",
    "# Create polynomial features\n",
    "poly = PolynomialFeatures(degree=2)\n",
    "X_poly = poly.fit_transform(X_train)\n",
    "\n",
    "# Train the polynomial regression model\n",
    "model = LinearRegression()\n",
    "model.fit(X_poly, y_train)\n",
    "\n",
    "# Predict using the model\n",
    "X_test_poly = poly.transform(X_test)\n",
    "y_pred = model.predict(X_test_poly)\n",
    "\n",
    "# Visualize the results\n",
    "plt.scatter(X_test, y_test, color='red', label='Actual data')\n",
    "plt.scatter(X_test, y_pred, color='blue', label='Predicted data')\n",
    "plt.title('Polynomial Regression Results')\n",
    "plt.xlabel('X')\n",
    "plt.ylabel('y')\n",
    "plt.legend()\n",
    "plt.show()\n",
    "\n",
    "# Print model coefficients\n",
    "print(\"Model coefficients:\", model.coef_)\n",
    "print(\"Model intercept:\", model.intercept_)"
   ]
  },
  {
   "cell_type": "markdown",
   "id": "87561734",
   "metadata": {
    "papermill": {
     "duration": 0.002311,
     "end_time": "2024-10-01T05:41:17.124422",
     "exception": false,
     "start_time": "2024-10-01T05:41:17.122111",
     "status": "completed"
    },
    "tags": []
   },
   "source": [
    "### Notebook Structure\n",
    "\n",
    "1. **Import Libraries**: Import required libraries like NumPy, Matplotlib, and Scikit-learn.\n",
    "  \n",
    "2. **Data Generation**: Create synthetic data for polynomial regression.\n",
    "\n",
    "3. **Data Preprocessing**: Split the data into training and testing sets, and create polynomial features.\n",
    "\n",
    "4. **Model Training**: Fit a polynomial regression model using the training data.\n",
    "\n",
    "5. **Prediction**: Make predictions on the test data.\n",
    "\n",
    "6. **Visualization**: Plot the actual vs. predicted values.\n",
    "\n",
    "7. **Output**: Print the model coefficients and intercept.\n",
    "\n",
    "### Note\n",
    "You can adjust the degree of the polynomial in `PolynomialFeatures(degree=2)` to explore how the model performs with different polynomial degrees. Let me know if you need further modifications!"
   ]
  },
  {
   "cell_type": "code",
   "execution_count": 2,
   "id": "c37fb8aa",
   "metadata": {
    "execution": {
     "iopub.execute_input": "2024-10-01T05:41:17.131103Z",
     "iopub.status.busy": "2024-10-01T05:41:17.130577Z",
     "iopub.status.idle": "2024-10-01T05:41:17.140344Z",
     "shell.execute_reply": "2024-10-01T05:41:17.139156Z"
    },
    "papermill": {
     "duration": 0.015887,
     "end_time": "2024-10-01T05:41:17.142684",
     "exception": false,
     "start_time": "2024-10-01T05:41:17.126797",
     "status": "completed"
    },
    "tags": []
   },
   "outputs": [
    {
     "name": "stdout",
     "output_type": "stream",
     "text": [
      "Model Performance Metrics:\n",
      "Mean Absolute Error (MAE): 0.4360173940482607\n",
      "Mean Squared Error (MSE): 0.25713669503818387\n",
      "R-squared (R²): 0.8517150061271215\n",
      "Model coefficients: [0.         0.13636345 0.89359729]\n",
      "Model intercept: 0.16369097928912224\n"
     ]
    }
   ],
   "source": [
    "from sklearn.metrics import mean_absolute_error, mean_squared_error, r2_score\n",
    "\n",
    "# Calculate and print model performance metrics\n",
    "mae = mean_absolute_error(y_test, y_pred)\n",
    "mse = mean_squared_error(y_test, y_pred)\n",
    "r2 = r2_score(y_test, y_pred)\n",
    "\n",
    "print(\"Model Performance Metrics:\")\n",
    "print(f\"Mean Absolute Error (MAE): {mae}\")\n",
    "print(f\"Mean Squared Error (MSE): {mse}\")\n",
    "print(f\"R-squared (R²): {r2}\")\n",
    "\n",
    "# Print model coefficients\n",
    "print(\"Model coefficients:\", model.coef_)\n",
    "print(\"Model intercept:\", model.intercept_)"
   ]
  }
 ],
 "metadata": {
  "kaggle": {
   "accelerator": "none",
   "dataSources": [],
   "dockerImageVersionId": 30775,
   "isGpuEnabled": false,
   "isInternetEnabled": false,
   "language": "python",
   "sourceType": "notebook"
  },
  "kernelspec": {
   "display_name": "Python 3",
   "language": "python",
   "name": "python3"
  },
  "language_info": {
   "codemirror_mode": {
    "name": "ipython",
    "version": 3
   },
   "file_extension": ".py",
   "mimetype": "text/x-python",
   "name": "python",
   "nbconvert_exporter": "python",
   "pygments_lexer": "ipython3",
   "version": "3.10.14"
  },
  "papermill": {
   "default_parameters": {},
   "duration": 5.312507,
   "end_time": "2024-10-01T05:41:17.666268",
   "environment_variables": {},
   "exception": null,
   "input_path": "__notebook__.ipynb",
   "output_path": "__notebook__.ipynb",
   "parameters": {},
   "start_time": "2024-10-01T05:41:12.353761",
   "version": "2.6.0"
  }
 },
 "nbformat": 4,
 "nbformat_minor": 5
}
